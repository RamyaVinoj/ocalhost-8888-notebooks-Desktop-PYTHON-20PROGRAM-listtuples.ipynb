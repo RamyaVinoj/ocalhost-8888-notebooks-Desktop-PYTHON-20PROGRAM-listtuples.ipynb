{
 "cells": [
  {
   "cell_type": "code",
   "execution_count": null,
   "id": "f6c4604b",
   "metadata": {},
   "outputs": [],
   "source": []
  },
  {
   "cell_type": "code",
   "execution_count": null,
   "id": "1ec7e280",
   "metadata": {},
   "outputs": [],
   "source": [
    "values = []\n",
    "print(\"Enter -1 -1 to finish input\")\n",
    "while True:\n",
    "    ip = input(\"enter two numbers:\")\n",
    "    x, y = ip.split(\" \")\n",
    "    if int(x)==-1 & int(y)==-1:\n",
    "        break\n",
    "    values.append((int(x),int(y)))\n",
    "print(\"The list is:\",values)\n",
    "Length = len(values)\n",
    "for i in range(0, Length):\n",
    "    for j in range(0, (Length - i - 1)):\n",
    "        if(values[j][1] > values[j+1][1]):\n",
    "            temp = values[j]\n",
    "            values[j] = values[j+1]\n",
    "            values[j+1] = temp\n",
    "print(\"Sorted List : \", str(values))"
   ]
  },
  {
   "cell_type": "code",
   "execution_count": null,
   "id": "0aab0b4c",
   "metadata": {},
   "outputs": [],
   "source": []
  },
  {
   "cell_type": "code",
   "execution_count": null,
   "id": "f8caff6c",
   "metadata": {},
   "outputs": [],
   "source": []
  }
 ],
 "metadata": {
  "kernelspec": {
   "display_name": "Python 3 (ipykernel)",
   "language": "python",
   "name": "python3"
  },
  "language_info": {
   "codemirror_mode": {
    "name": "ipython",
    "version": 3
   },
   "file_extension": ".py",
   "mimetype": "text/x-python",
   "name": "python",
   "nbconvert_exporter": "python",
   "pygments_lexer": "ipython3",
   "version": "3.10.0"
  }
 },
 "nbformat": 4,
 "nbformat_minor": 5
}
